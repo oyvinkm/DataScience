{
 "cells": [
  {
   "cell_type": "code",
   "execution_count": null,
   "metadata": {},
   "outputs": [],
   "source": [
    "# 1. Read the CSV file\n",
    "# 2. In the content field, do the following:\n",
    "# - Tokenize and lower-case the text (end result should be an array of tokens where each token is a lexical unit or a punctuation). For example, “He said: ‘Don’t go there!’” => (he, said, :, ‘, don’t, go, there, !, ‘)\n",
    "# - Remove consecutive spaces and new lines\n",
    "# - Find and replace URLs with <URL>\n",
    "# - Find and replace dates with <DATE>\n",
    "# - Find and replace numbers with <NUM>\n",
    "# 3. For the metadata fields:\n",
    "# - Fill all empty fields with a placeholder NULL\n"
   ]
  },
  {
   "cell_type": "code",
   "execution_count": 1,
   "metadata": {},
   "outputs": [],
   "source": [
    "import numpy as np\n",
    "import pandas as pd \n",
    "import re\n",
    "import nltk\n",
    "from nltk.tokenize import TweetTokenizer, ToktokTokenizer\n",
    "from collections import Counter \n",
    "import itertools\n",
    "import matplotlib as plt\n",
    "import csv"
   ]
  },
  {
   "cell_type": "code",
   "execution_count": 2,
   "metadata": {},
   "outputs": [],
   "source": [
    "#Function to read a csv-file from URL\n",
    "def readUrl(url):\n",
    "    data = pd.read_csv(url)\n",
    "    return data\n",
    "#Function to find and replace URLs with <URL>\n",
    "def swapUrl(line):\n",
    "    urlPattern = r'((http|https)\\:\\/\\/)?[a-zA-Z0-9\\.\\/\\?\\:@\\-_=#]+\\.([a-zA-Z]){2,6}([a-zA-Z0-9\\.\\&\\/\\?\\:@\\-_=#])*'\n",
    "    line = re.sub(urlPattern,' <URL> ', line)\n",
    "    return line\n",
    "#Function to find and replace dates with <DATE>\n",
    "def swapDates(line):\n",
    "    re1 = r'[\\d]{1,2}(th)? [adfjmnos]\\w*[,]?[.]? ([\\d]{2,4})?'\n",
    "    re2 = r'[adfjmnos]\\w*[,]?[.]? [\\d]{1,2}(th)?[,]? ([\\d]{2,4})?'\n",
    "    re3 = r'[adfjmnos]\\w* [\\d]{1,2}[,]?[.]?([\\d]{2,4})?'\n",
    "    re4 = r'[\\d]{1,2}-[\\d]{1,2}-[\\d]{2,4}'\n",
    "    re5 = r'[\\d]{1,2}/[\\d]{1,2}/[\\d]{2,4}'\n",
    "    re6 = r'[\\d]{1,2} [\\d]{1,2} [\\d]{2,4}'\n",
    "    re7 = r'[\\d].{1,2}.[\\d]{1,2}.[\\d]{2,4}'\n",
    "    finReg = [re1, re2, re3, re4, re5, re6, re7]\n",
    "    for reg in finReg:\n",
    "        line = re.sub(reg, ' <DATE> ', line)\n",
    "    return line\n",
    "\n",
    "#Function to find and replace numbers with <NUM>\n",
    "def swapNumb(line):\n",
    "    pattern = r'[\\d]+[,]?([\\d]+)?'\n",
    "    line = re.sub(pattern, ' <NUM> ', line)\n",
    "    return line\n",
    "\n",
    "#Functions to count no. of dates, numbers and url.\n",
    "#Could be done earlier\n",
    "def counter(data):\n",
    "    countDict = {'DATE': 0, 'URL': 0, 'NUM': 0}\n",
    "    for line in data:\n",
    "        for key in countDict:\n",
    "            countDict[key] += line.count('<'+str(key) + '>') \n",
    "    return countDict\n",
    "\n",
    "#Function to count k-most frequent words. \n",
    "def wordCount(content, k):\n",
    "    #Takes the whole content, which is a tokenized list and \n",
    "    # flattens it to one long list.\n",
    "    flatten = list(itertools.chain.from_iterable(content))\n",
    "    # Defines regex for all non-ASCII characters\n",
    "    punct = re.compile(r'\\W')\n",
    "    #Filters out all non-ASCII characters\n",
    "    filtered = filter(lambda i: not punct.search(i), flatten)\n",
    "    #Counts frequency of words\n",
    "    counter = Counter(filtered)\n",
    "    #Returns k-most frequent words\n",
    "    most_freq = counter.most_common(k)\n",
    "    return most_freq\n",
    "\n",
    "    "
   ]
  },
  {
   "cell_type": "code",
   "execution_count": 7,
   "metadata": {},
   "outputs": [
    {
     "name": "stdout",
     "output_type": "stream",
     "text": [
      "[('the', 9504), ('of', 4845), ('to', 4842), ('and', 4654), ('a', 3348), ('in', 2954), ('is', 2314), ('that', 2287), ('it', 1626), ('s', 1613), ('for', 1527), ('you', 1236), ('are', 1230), ('i', 1190), ('on', 1161), ('with', 1160), ('this', 1153), ('as', 1075), ('be', 928), ('by', 839), ('have', 786), ('was', 784), ('not', 737), ('at', 686), ('or', 686), ('from', 682), ('we', 677), ('they', 637), ('but', 594), ('your', 556), ('has', 541), ('an', 516), ('their', 515), ('all', 490), ('will', 487), ('can', 477), ('more', 473), ('t', 463), ('if', 451), ('what', 448), ('he', 447), ('one', 436), ('about', 435), ('who', 425), ('there', 421), ('so', 388), ('which', 388), ('people', 383), ('our', 362), ('were', 358), ('his', 357), ('these', 347), ('been', 346), ('no', 340), ('trump', 337), ('like', 328), ('would', 321), ('do', 319), ('when', 305), ('its', 301), ('time', 291), ('us', 284), ('also', 276), ('some', 274), ('up', 272), ('out', 267), ('new', 266), ('had', 265), ('how', 265), ('blockchain', 260), ('my', 258), ('into', 253), ('other', 252), ('any', 244), ('just', 241), ('now', 232), ('said', 231), ('many', 226), ('only', 216), ('even', 213), ('next', 211), ('market', 211), ('being', 205), ('them', 205), ('could', 201), ('because', 201), ('government', 201), ('think', 199), ('after', 196), ('very', 195), ('most', 194), ('than', 194), ('way', 191), ('then', 191), ('state', 190), ('u', 188), ('here', 188), ('president', 186), ('two', 185), ('see', 183), ('those', 183), ('world', 182), ('first', 180), ('over', 180), ('life', 176), ('make', 167), ('may', 166), ('me', 160), ('things', 158), ('take', 154), ('through', 153), ('get', 151), ('years', 149), ('bitcoin', 147), ('obama', 146), ('where', 144), ('much', 142), ('stocks', 141), ('year', 139), ('fact', 136), ('headline', 135), ('use', 134), ('going', 134), ('her', 133), ('such', 133), ('good', 132), ('exceed', 131), ('well', 131), ('searches', 130), ('war', 129), ('right', 129), ('states', 128), ('while', 127), ('she', 127), ('power', 126), ('need', 126), ('against', 126), ('back', 124), ('don', 124), ('m', 124), ('really', 120), ('day', 120), ('russia', 120), ('should', 119), ('during', 119), ('before', 118), ('american', 118), ('money', 117), ('re', 116), ('free', 115), ('news', 114), ('did', 112), ('down', 112), ('own', 112), ('source', 112), ('work', 111), ('made', 111), ('part', 111), ('global', 111), ('know', 111), ('same', 110), ('something', 110), ('help', 109), ('report', 109), ('last', 108), ('clinton', 107), ('why', 104), ('country', 103), ('used', 103), ('want', 103), ('long', 101), ('public', 100), ('research', 99), ('does', 99), ('policy', 99), ('go', 98), ('law', 97), ('both', 96), ('off', 95), ('oil', 95), ('point', 95), ('under', 94), ('times', 93), ('between', 93), ('feel', 93), ('financial', 93), ('america', 92), ('support', 91), ('security', 91), ('political', 91), ('media', 90), ('order', 90), ('industry', 90), ('around', 88), ('group', 88), ('national', 88), ('another', 87), ('every', 87), ('without', 86), ('today', 86), ('important', 86), ('system', 85), ('great', 84), ('end', 84), ('including', 84), ('big', 83), ('say', 83), ('each', 83), ('military', 83), ('change', 82), ('information', 82), ('space', 82), ('look', 81), ('never', 81), ('am', 81), ('united', 80), ('might', 80), ('data', 80), ('department', 80), ('still', 79), ('administration', 79), ('others', 78), ('since', 78), ('few', 78), ('high', 78), ('economic', 78), ('thing', 77), ('too', 77), ('company', 76), ('nation', 76), ('according', 76), ('kind', 76), ('history', 76), ('russian', 76), ('given', 75), ('three', 75), ('washington', 75), ('bank', 75), ('god', 75), ('must', 74), ('having', 73), ('again', 73), ('gold', 73), ('become', 73), ('ve', 71), ('him', 70), ('personal', 70), ('business', 70), ('act', 69), ('best', 69), ('however', 69), ('yet', 69), ('risk', 69), ('found', 68), ('called', 68), ('actually', 68), ('let', 68), ('keep', 68), ('come', 68), ('real', 68), ('bad', 68), ('story', 67), ('americans', 67), ('problem', 67), ('likely', 67), ('congress', 67), ('price', 66), ('markets', 66), ('federal', 65), ('black', 65), ('iraq', 65), ('find', 65), ('question', 64), ('trading', 64), ('china', 64), ('better', 64), ('place', 64), ('control', 64), ('health', 63), ('energy', 63), ('weather', 63), ('action', 62), ('far', 62), ('course', 62), ('secretary', 62), ('hemp', 62), ('says', 61), ('europe', 61), ('general', 61), ('party', 61), ('recent', 61), ('house', 60), ('always', 60), ('donald', 60), ('book', 60), ('number', 60), ('c', 60), ('process', 60), ('top', 60), ('social', 60), ('whether', 60), ('d', 59), ('matter', 59), ('human', 59), ('often', 59), ('step', 59), ('event', 58), ('add', 58), ('within', 58), ('live', 58), ('true', 58), ('result', 58), ('little', 57), ('full', 57), ('read', 57), ('former', 57), ('left', 56), ('post', 56), ('able', 56), ('seems', 56), ('using', 56), ('person', 56), ('didn', 56), ('believe', 55), ('cents', 55), ('start', 55), ('means', 55), ('european', 55), ('events', 55), ('north', 55), ('growth', 55), ('choice', 54), ('readers', 54), ('line', 54), ('below', 54), ('interest', 54), ('family', 54), ('email', 54), ('investigation', 54), ('different', 54), ('show', 53), ('ever', 53), ('already', 53), ('following', 53), ('share', 53), ('everything', 53), ('officials', 53), ('violent', 53), ('across', 52), ('video', 52), ('office', 52), ('major', 52), ('along', 52), ('fbi', 52), ('lot', 52), ('truth', 52), ('home', 52), ('higher', 52), ('visit', 51), ('open', 51), ('development', 51), ('white', 51), ('countries', 51), ('service', 51), ('analysis', 51), ('understand', 51), ('debt', 51), ('days', 50), ('night', 50), ('based', 50), ('shall', 50), ('food', 50), ('rights', 50), ('banks', 50), ('cannot', 50), ('told', 50), ('happen', 50), ('yes', 50), ('possible', 50), ('crisis', 50), ('court', 50), ('future', 50), ('body', 50), ('nato', 50), ('doesn', 49), ('making', 49), ('past', 49), ('once', 49), ('program', 49), ('mary', 49), ('simply', 49), ('yourself', 48), ('enough', 48), ('mind', 48), ('continue', 48), ('move', 48), ('saying', 48), ('committee', 48), ('agency', 48), ('values', 48), ('bill', 47), ('several', 47), ('huge', 47), ('month', 47), ('give', 47), ('private', 47), ('provide', 47), ('international', 47), ('done', 47), ('level', 47), ('society', 47), ('stock', 47), ('fed', 47), ('anything', 46), ('production', 46), ('team', 46), ('though', 46), ('wrong', 46), ('reason', 46), ('justice', 46), ('p', 46), ('agencies', 46), ('clear', 46), ('school', 46), ('less', 46), ('comes', 46), ('turning', 46), ('police', 46), ('fourth', 46), ('working', 45), ('th', 45), ('known', 45), ('millions', 45), ('nothing', 45), ('small', 45), ('press', 45), ('getting', 45), ('sense', 45), ('study', 45), ('south', 45), ('sure', 44), ('available', 44), ('percent', 44), ('increase', 44), ('children', 44), ('foreign', 44), ('decision', 44), ('intelligence', 44), ('put', 44), ('technology', 44), ('learn', 44), ('constitution', 44), ('current', 44), ('everyone', 43), ('local', 43), ('taken', 43), ('statement', 43), ('london', 43), ('canada', 43), ('call', 43), ('campaign', 43), ('reports', 43), ('article', 43), ('someone', 43), ('education', 43), ('plan', 43), ('extremism', 43), ('magnesium', 43), ('doing', 42), ('got', 42), ('makes', 42), ('large', 42), ('coming', 42), ('took', 42), ('love', 42), ('cases', 42), ('middle', 42), ('stop', 42), ('until', 42), ('tax', 42), ('certain', 42), ('force', 42), ('magdalene', 42), ('example', 41), ('case', 41), ('name', 41), ('four', 41), ('close', 41), ('e', 41), ('further', 41), ('set', 41), ('rates', 41), ('men', 41), ('wall', 41), ('man', 41), ('website', 41), ('hard', 41), ('jim', 41), ('legal', 41), ('death', 41), ('speech', 41), ('area', 41), ('water', 41), ('although', 40), ('light', 40), ('meeting', 40), ('among', 40), ('please', 40), ('cancer', 40), ('devices', 40), ('central', 40), ('members', 39), ('community', 39), ('whole', 39), ('per', 39), ('months', 39), ('upon', 39), ('actions', 39), ('due', 39), ('thought', 39), ('avoid', 39), ('key', 39), ('else', 39), ('reported', 39), ('related', 39), ('university', 39), ('trying', 39), ('companies', 39), ('ll', 39), ('credit', 39), ('audio', 39), ('reality', 38), ('access', 38), ('billion', 38), ('needs', 38), ('lead', 38), ('rather', 38), ('form', 38), ('nuclear', 38), ('germany', 38), ('forces', 38), ('operations', 38), ('maybe', 38), ('vietnam', 38), ('ago', 37), ('daily', 37), ('second', 37), ('silver', 37), ('looks', 37), ('experience', 37), ('election', 37), ('either', 37), ('director', 37), ('attack', 37), ('evidence', 37), ('view', 37), ('trust', 37), ('systems', 37), ('especially', 37), ('freedom', 37), ('happiness', 37), ('ways', 37), ('low', 37), ('products', 37), ('cost', 37), ('bit', 36), ('together', 36), ('alone', 36), ('seen', 36), ('comex', 36), ('happy', 36), ('single', 36), ('fear', 36), ('terms', 36), ('negative', 36), ('google', 36), ('rate', 36), ('efforts', 36), ('syria', 36), ('policies', 36), ('class', 36), ('follow', 35), ('run', 35), ('watch', 35), ('science', 35), ('later', 35), ('contracts', 35), ('quite', 35), ('taking', 35), ('attacks', 35), ('official', 35), ('click', 35), ('away', 35), ('face', 35), ('natural', 35), ('week', 35), ('cause', 35), ('won', 35), ('individuals', 35), ('situation', 35), ('ukraine', 35), ('looking', 35), ('least', 34), ('created', 34), ('street', 34), ('wants', 34), ('women', 34), ('mean', 34), ('eu', 34), ('terrorist', 34), ('leaders', 34), ('depression', 34), ('young', 34), ('families', 33), ('total', 33), ('came', 33), ('tell', 33), ('asked', 33), ('idea', 33), ('stated', 33), ('programs', 33), ('comment', 33), ('emails', 33), ('cold', 33), ('various', 33), ('woman', 33), ('mass', 32), ('turn', 32), ('issue', 32), ('continued', 32), ('word', 32), ('john', 32), ('violence', 32), ('nature', 32), ('defense', 32), ('interview', 32), ('author', 32), ('talk', 32), ('facebook', 32), ('democracy', 32), ('easily', 32), ('students', 32), ('common', 32), ('divine', 32), ('gave', 31), ('understanding', 31), ('focus', 31), ('care', 31), ('living', 31), ('physical', 31), ('note', 31), ('average', 31), ('supply', 31), ('happened', 31), ('nations', 31), ('isn', 31), ('internet', 31), ('city', 31), ('ban', 31), ('proof', 31), ('critical', 31), ('probably', 31), ('wrote', 31), ('peace', 31), ('job', 31), ('themselves', 31), ('commission', 31), ('citizens', 31), ('laws', 31), ('center', 31), ('behind', 31), ('currently', 31), ('basis', 31), ('region', 31), ('countering', 31), ('conflict', 31), ('positive', 30), ('message', 30), ('path', 30), ('earth', 30), ('feed', 30), ('phone', 30), ('deal', 30), ('receive', 30), ('strong', 30), ('twitter', 30), ('include', 30), ('highly', 30), ('list', 30), ('improve', 30), ('side', 30), ('sensors', 30), ('threat', 30), ('near', 30), ('lives', 29), ('executive', 29), ('christian', 29), ('finally', 29), ('create', 29), ('prices', 29), ('fall', 29), ('amount', 29), ('seem', 29), ('account', 29), ('direct', 29), ('services', 29), ('published', 29), ('similar', 29), ('terrorists', 29), ('relations', 29), ('realize', 29), ('goes', 29), ('certainly', 29), ('weapons', 29), ('corporate', 29), ('nasa', 29), ('feminine', 29), ('greek', 29), ('articles', 28), ('present', 28), ('sea', 28), ('recently', 28), ('sources', 28), ('blog', 28), ('increased', 28), ('member', 28), ('latest', 28), ('instead', 28), ('whatever', 28), ('leader', 28), ('relationship', 28), ('above', 28), ('treaty', 28), ('itself', 28), ('six', 28), ('east', 28), ('age', 28), ('isis', 28), ('difference', 28), ('almost', 28), ('aware', 28), ('civil', 28), ('old', 28), ('thinking', 28), ('choose', 28), ('authority', 28), ('leach', 28), ('mindful', 28), ('beijing', 28), ('hold', 27), ('words', 27), ('wanted', 27), ('type', 27), ('friday', 27), ('product', 27), ('institute', 27), ('value', 27), ('efp', 27), ('received', 27), ('short', 27), ('mark', 27), ('trade', 27), ('border', 27), ('weeks', 27), ('announced', 27), ('uk', 27), ('safety', 27), ('protect', 27), ('contact', 27), ('ties', 27), ('southern', 27), ('significant', 27), ('issues', 27), ('activities', 27), ('started', 27), ('myself', 27), ('foods', 27), ('entire', 26), ('pain', 26), ('remains', 26), ('effects', 26), ('democrats', 26), ('despite', 26), ('remember', 26), ('york', 26), ('b', 26), ('longer', 26), ('rule', 26), ('response', 26), ('thousands', 26), ('messages', 26), ('limited', 26), ('early', 26), ('details', 26), ('lord', 26), ('beginning', 26), ('specific', 26), ('leading', 26), ('levels', 26), ('western', 26), ('status', 26), ('pay', 26), ('reasons', 26), ('spent', 26), ('quickly', 26), ('soon', 26), ('respond', 26), ('management', 26), ('basic', 26), ('hope', 26), ('historical', 26), ('union', 26), ('shame', 26), ('economy', 26), ('spiritual', 26), ('anxiety', 26), ('lost', 25), ('success', 25), ('necessary', 25), ('period', 25), ('dark', 25), ('five', 25), ('released', 25), ('hours', 25), ('lower', 25), ('funds', 25), ('went', 25), ('page', 25), ('hillary', 25), ('benghazi', 25), ('began', 25), ('moving', 25), ('false', 25), ('biggest', 25), ('california', 25), ('destruction', 25), ('building', 25), ('regime', 25), ('gas', 25), ('pretty', 25), ('alternative', 25), ('position', 25), ('religion', 25), ('direction', 25), ('road', 25), ('mr', 25), ('areas', 25), ('greg', 25), ('check', 25), ('politics', 25), ('ent', 25), ('endoscopic', 25), ('jesus', 24), ('ended', 24), ('appears', 24), ('additional', 24), ('immediately', 24), ('toward', 24), ('ability', 24), ('added', 24), ('points', 24), ('notice', 24), ('subscribe', 24), ('try', 24), ('term', 24), ('minister', 24), ('planned', 24), ('revealed', 24), ('heart', 24), ('presidential', 24), ('accept', 24), ('provided', 24), ('develop', 24), ('head', 24), ('ready', 24), ('breaking', 24), ('cells', 24), ('fire', 24), ('feelings', 24), ('conditions', 24), ('establishment', 24), ('range', 24), ('potential', 24), ('ones', 24), ('individual', 24), ('dollars', 24), ('investors', 24), ('bray', 24), ('link', 24), ('dairy', 24), ('update', 23), ('written', 23), ('main', 23), ('image', 23), ('l', 23), ('dollar', 23), ('thus', 23), ('movement', 23), ('fraud', 23), ('board', 23), ('domain', 23), ('chief', 23), ('democratic', 23), ('expected', 23), ('impact', 23), ('spread', 23), ('evil', 23), ('bring', 23), ('anyone', 23), ('german', 23), ('hand', 23), ('foundation', 23), ('led', 23), ('half', 23), ('air', 23), ('multiple', 23), ('larger', 23), ('towards', 23), ('documents', 23), ('republican', 23), ('wealth', 23), ('previous', 23), ('disease', 23), ('nobody', 23), ('forecast', 23), ('moment', 22), ('perhaps', 22), ('deep', 22), ('discovered', 22), ('throughout', 22), ('offer', 22), ('respect', 22), ('front', 22), ('demand', 22), ('massive', 22), ('exchange', 22), ('record', 22), ('comments', 22), ('core', 22), ('faith', 22), ('appeared', 22), ('reserve', 22), ('removed', 22), ('senate', 22), ('decisions', 22), ('chance', 22), ('enforcement', 22), ('site', 22), ('gone', 22), ('goal', 22), ('powers', 22), ('organization', 22), ('illegal', 22), ('ahead', 22), ('terror', 22), ('borders', 22), ('consumption', 22), ('sign', 22), ('completely', 22), ('base', 22), ('takes', 22), ('worse', 22), ('growing', 22), ('guy', 22), ('banking', 22), ('trillion', 22), ('holding', 22), ('greater', 22), ('buy', 22), ('putin', 22), ('teachers', 22), ('original', 22), ('cia', 22), ('kids', 22), ('jews', 22), ('martin', 22), ('laser', 22), ('special', 21), ('push', 21), ('thank', 21), ('beyond', 21), ('nearly', 21), ('begin', 21), ('filed', 21), ('starting', 21), ('remove', 21), ('fair', 21), ('criminal', 21), ('attention', 21), ('safe', 21), ('james', 21), ('attorney', 21), ('held', 21), ('communications', 21), ('meant', 21), ('met', 21), ('online', 21), ('storm', 21), ('directly', 21), ('israel', 21)]\n"
     ]
    }
   ],
   "source": [
    "rawData = readUrl('https://raw.githubusercontent.com/several27/FakeNewsCorpus/master/news_sample.csv')\n",
    "token = TweetTokenizer()\n",
    "tokenizedList = []\n",
    "for line in rawData['content']:\n",
    "    line = line.lower()\n",
    "    pattern = re.compile(r'\\s+')\n",
    "    line = re.sub(pattern, ' ', line)\n",
    "    line = line.rstrip('\\n')\n",
    "    line = swapUrl(line)\n",
    "    line = swapDates(line)\n",
    "    line = swapNumb(line)\n",
    "    tokenizedList.append(token.tokenize(line))\n",
    "rawData['content'] = tokenizedList\n",
    "metaList = []\n",
    "for line in rawData['meta_keywords']:\n",
    "    if (line ==  \"['']\"):\n",
    "        metaList.append(np.nan)\n",
    "    else: \n",
    "        metaList.append(line)\n",
    "rawData['meta_keywords'] = metaList\n",
    "#Counts DATE,URL & NUM\n",
    "count = counter(rawData['content'])\n",
    "#Counts words\n",
    "counted = wordCount(rawData['content'], 1000)\n",
    "print (counted)\n",
    "#Attempt to write to csv-file\n",
    "#with open('words.csv', 'wb') as csvfile:\n",
    "#    fwriter = csv.writer(csvfile)\n",
    "#    for x in counted:\n",
    "#        fwriter.writerow(x)\n",
    "    \n",
    "\n",
    "\n",
    "\n",
    "\n",
    "\n",
    "\n"
   ]
  },
  {
   "cell_type": "code",
   "execution_count": 3,
   "metadata": {},
   "outputs": [
    {
     "name": "stdout",
     "output_type": "stream",
     "text": [
      " <URL> \n",
      "['a', 'c', 'jsd', 'd', 'a', 'a', 'c']\n",
      "[('a', 3), ('c', 2)]\n",
      "{'DATE': 4, 'URL': 3, 'NUM': 4}\n"
     ]
    }
   ],
   "source": [
    "#TESTS: \n",
    "\n",
    "test = swapUrl('https://www.youtube.com/watch?v=cJymBJ_5iUg')\n",
    "print(test)\n",
    "dateTest = []\n",
    "dateTest.append(swapDates('17/11/1996'))\n",
    "dateTest.append(swapDates('17 november 1996'))\n",
    "dateTest.append(swapDates('17-11-1996'))\n",
    "dateTest.append(swapDates('17 jun 2018'))\n",
    "dateTest.append(swapDates('nov 17 1996'))\n",
    "dateTest.append(swapDates('january, 15 '))\n",
    "dateTest.append(swapDates('17 november '))\n",
    "dateTest.append(swapDates('jan. 15 2018'))\n",
    "dateTest.append(swapDates('jan 31.2018'))\n",
    "dateTest.append(swapNumb('halla 123 hall 732,189'))\n",
    "t = ['This is a <DATE> and <URL> <URL> comes up <NUM> <NUM> <NUM>', '<DATE> as <DATE> asd <DATE> asd <URL> <NUM>']\n",
    "dictio = counter(t)\n",
    "t = [['a', 'c', 'jsd'], ['d', 'a', 'a', 'c']]\n",
    "print(wordCount(t, 2))\n",
    "print(dictio)\n",
    "#for elm in dateTest:\n",
    "    #print(elm)"
   ]
  },
  {
   "cell_type": "code",
   "execution_count": null,
   "metadata": {},
   "outputs": [],
   "source": []
  },
  {
   "cell_type": "code",
   "execution_count": null,
   "metadata": {},
   "outputs": [],
   "source": []
  }
 ],
 "metadata": {
  "kernelspec": {
   "display_name": "Python 3",
   "language": "python",
   "name": "python3"
  },
  "language_info": {
   "codemirror_mode": {
    "name": "ipython",
    "version": 3
   },
   "file_extension": ".py",
   "mimetype": "text/x-python",
   "name": "python",
   "nbconvert_exporter": "python",
   "pygments_lexer": "ipython3",
   "version": "3.7.4"
  }
 },
 "nbformat": 4,
 "nbformat_minor": 2
}
